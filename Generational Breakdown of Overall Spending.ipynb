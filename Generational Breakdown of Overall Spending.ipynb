{
 "cells": [
  {
   "attachments": {},
   "cell_type": "markdown",
   "metadata": {},
   "source": [
    "https://public.tableau.com/app/profile/von.vanmany/viz/GenerationalBreakdownofOverallSpending/Sheet1"
   ]
  },
  {
   "attachments": {},
   "cell_type": "markdown",
   "metadata": {},
   "source": [
    "3/6/23 added Bar graph on % spending:\n",
    "https://public.tableau.com/app/profile/von.vanmany/viz/GenerationalBreakdownofOverallSpending_addedBargraphonspending/Sheet2"
   ]
  },
  {
   "attachments": {},
   "cell_type": "markdown",
   "metadata": {},
   "source": [
    "3/7/23 added color schem for Dotted graph:\n",
    "https://public.tableau.com/app/profile/von.vanmany/viz/GenerationalBreakdownofOverallSpending_addedcolorschemforDottedgraph/Sheet1"
   ]
  },
  {
   "attachments": {},
   "cell_type": "markdown",
   "metadata": {},
   "source": [
    "3/9/23 Changed the look of the 2nd bar chart"
   ]
  },
  {
   "attachments": {},
   "cell_type": "markdown",
   "metadata": {},
   "source": [
    "3/11/23 Edited Rows and Columns for the 2nd Sheet "
   ]
  },
  {
   "attachments": {},
   "cell_type": "markdown",
   "metadata": {},
   "source": [
    "3/15/23 Added a title sheet that changes when a user clicks a diffent menu"
   ]
  },
  {
   "attachments": {},
   "cell_type": "markdown",
   "metadata": {},
   "source": [
    "3/21/23 Finalizing the dashboard:\n",
    "https://public.tableau.com/app/profile/von.vanmany/viz/GenerationalBreakdownofOverallSpending_FinalDashBoard/Dashboard1\n"
   ]
  }
 ],
 "metadata": {
  "language_info": {
   "name": "python"
  },
  "orig_nbformat": 4
 },
 "nbformat": 4,
 "nbformat_minor": 2
}
